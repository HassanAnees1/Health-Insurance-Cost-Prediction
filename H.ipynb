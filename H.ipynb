{
  "nbformat": 4,
  "nbformat_minor": 0,
  "metadata": {
    "colab": {
      "provenance": []
    },
    "kernelspec": {
      "name": "python3",
      "display_name": "Python 3"
    },
    "language_info": {
      "name": "python"
    }
  },
  "cells": [
    {
      "cell_type": "markdown",
      "source": [
        "# Health Insurance Cost Prediction - Traditional ML Approach\n",
        "# Author: Data Science Team\n",
        "# Date: July 2025\n",
        "\n",
        "## Project Objective\n",
        "\n",
        "The goal of this project is to build a predictive model to estimate individual health insurance costs. The model will be trained on a dataset containing various features such as age, gender, BMI, number of children, smoker status, and region. We will use traditional machine learning algorithms and evaluate their performance to select the best one. The final model will be prepared for deployment.\n",
        "\n",
        "### Key Tasks\n",
        "\n",
        "1.  **Data Collection**: Load a suitable dataset (e.g., \"Medical Cost Personal Datasets\" from Kaggle).\n",
        "2.  **Data Preprocessing**: Clean the data, handle missing values (if any), outliers, and convert categorical variables into a numeric format.\n",
        "3.  **Feature Engineering & EDA**: Explore the data to find patterns and relationships between variables using visualizations and statistical analysis.\n",
        "4.  **Model Building**: Develop several regression models using algorithms like Linear Regression, Decision Trees, and Gradient Boosting.\n",
        "5.  **Model Evaluation**: Assess model performance using metrics such as Mean Squared Error (MSE), Root Mean Squared Error (RMSE), and R-squared score.\n",
        "6.  **Model Deployment Preparation**: Save the best-performing model and related artifacts for future deployment on platforms like GitHub and Hugging Face Spaces."
      ]
    },
    {
      "cell_type": "markdown",
      "source": [
        "# ======================================================================\n",
        "# 1. SETUP AND IMPORTS\n",
        "# ======================================================================"
      ]
    },
    {
      "cell_type": "code",
      "source": [
        "# Import necessary libraries\n",
        "import pandas as pd\n",
        "import numpy as np\n",
        "import matplotlib.pyplot as plt\n",
        "import seaborn as sns\n",
        "from sklearn.model_selection import train_test_split, GridSearchCV\n",
        "from sklearn.preprocessing import StandardScaler, OneHotEncoder, LabelEncoder\n",
        "from sklearn.compose import ColumnTransformer\n",
        "from sklearn.pipeline import Pipeline\n",
        "from sklearn.linear_model import LinearRegression, Ridge, Lasso\n",
        "from sklearn.ensemble import RandomForestRegressor, GradientBoostingRegressor\n",
        "from sklearn.tree import DecisionTreeRegressor\n",
        "from sklearn.svm import SVR\n",
        "from sklearn.metrics import mean_squared_error, r2_score, mean_absolute_error\n",
        "import warnings\n",
        "import joblib\n",
        "import gradio as gr\n",
        "\n",
        "warnings.filterwarnings('ignore')\n",
        "\n",
        "# Set plotting style\n",
        "plt.style.use('seaborn-v0_8')\n",
        "sns.set_palette(\"husl\")\n",
        "\n",
        "print(\"📊 Health Insurance Cost Prediction Project\")\n",
        "print(\"=\" * 50)"
      ],
      "metadata": {
        "id": "OYhtkYn-ROpA"
      },
      "execution_count": 1,
      "outputs": [
        {
          "output_type": "stream",
          "name": "stdout",
          "text": [
            "📊 Health Insurance Cost Prediction Project\n",
            "==================================================\n"
          ]
        }
      ]
    },
    {
      "cell_type": "markdown",
      "source": [
        "# =============================================================================\n",
        "# 2. DATA LOADING AND INITIAL EXPLORATION\n",
        "# =============================================================================\n",
        "\n",
        "# Load the dataset. The insurance.csv file is assumed to be in the same directory as the notebook.\n",
        "# Note: This dataset is available on Kaggle (mirichoi0218/insurance).\n",
        "try:\n",
        "    df = pd.read_csv('insurance.csv')\n",
        "    print(\"Dataset loaded successfully.\")\n",
        "except FileNotFoundError:\n",
        "    print(\"Error: 'insurance.csv' not found. Please ensure the dataset file is uploaded.\")\n",
        "    exit()"
      ]
    },
    {
      "cell_type": "code",
      "source": [
        "df.info()"
      ],
      "metadata": {
        "id": "HuFCSXJmRw1E"
      },
      "execution_count": 2,
      "outputs": [
        {
          "output_type": "stream",
          "name": "stdout",
          "text": [
            "<class 'pandas.core.frame.DataFrame'>\n",
            "RangeIndex: 1338 entries, 0 to 1337\n",
            "Data columns (total 7 columns):\n",
            " #   Column    Non-Null Count  Dtype  \n",
            "---  ------    --------------  -----  \n",
            " 0   age       1338 non-null   int64  \n",
            " 1   sex       1338 non-null   object \n",
            " 2   bmi       1338 non-null   float64\n",
            " 3   children  1338 non-null   int64  \n",
            " 4   smoker    1338 non-null   object \n",
            " 5   region    1338 non-null   object \n",
            " 6   charges   1338 non-null   float64\n",
            "dtypes: float64(2), int64(2), object(3)\n",
            "memory usage: 73.3+ KB\n"
          ]
        }
      ]
    },
    {
      "cell_type": "code",
      "source": [
        "df.describe()"
      ],
      "metadata": {
        "id": "GURkLVSlRwr2"
      },
      "execution_count": 3,
      "outputs": [
        {
          "output_type": "execute_result",
          "data": {
            "text/plain": [
              "               age          bmi     children       charges\n",
              "count  1338.000000  1338.000000  1338.000000   1338.000000\n",
              "mean     39.207025    30.663397     1.094918  13270.422265\n",
              "std      14.049960     6.098187     1.205493  12110.011237\n",
              "min      18.000000    15.960000     0.000000   1121.873900\n",
              "25%      27.000000    26.296250     0.000000   4740.287150\n",
              "50%      39.000000    30.400000     1.000000   9382.033000\n",
              "75%      51.000000    34.693750     2.000000  16639.912515\n",
              "max      64.000000    53.130000     5.000000  63770.428010"
            ],
            "text/html": [
              "<div>\n",
              "<style scoped>\n",
              "    .dataframe tbody tr th:only-of-type {\n",
              "        vertical-align: middle;\n",
              "    }\n",
              "\n",
              "    .dataframe tbody tr th {\n",
              "        vertical-align: top;\n",
              "    }\n",
              "\n",
              "    .dataframe thead th {\n",
              "        text-align: right;\n",
              "    }\n",
              "</style>\n",
              "<table border=\"1\" class=\"dataframe\">\n",
              "  <thead>\n",
              "    <tr style=\"text-align: right;\">\n",
              "      <th></th>\n",
              "      <th>age</th>\n",
              "      <th>bmi</th>\n",
              "      <th>children</th>\n",
              "      <th>charges</th>\n",
              "    </tr>\n",
              "  </thead>\n",
              "  <tbody>\n",
              "    <tr>\n",
              "      <th>count</th>\n",
              "      <td>1338.000000</td>\n",
              "      <td>1338.000000</td>\n",
              "      <td>1338.000000</td>\n",
              "      <td>1338.000000</td>\n",
              "    </tr>\n",
              "    <tr>\n",
              "      <th>mean</th>\n",
              "      <td>39.207025</td>\n",
              "      <td>30.663397</td>\n",
              "      <td>1.094918</td>\n",
              "      <td>13270.422265</td>\n",
              "    </tr>\n",
              "    <tr>\n",
              "      <th>std</th>\n",
              "      <td>14.049960</td>\n",
              "      <td>6.098187</td>\n",
              "      <td>1.205493</td>\n",
              "      <td>12110.011237</td>\n",
              "    </tr>\n",
              "    <tr>\n",
              "      <th>min</th>\n",
              "      <td>18.000000</td>\n",
              "      <td>15.960000</td>\n",
              "      <td>0.000000</td>\n",
              "      <td>1121.873900</td>\n",
              "    </tr>\n",
              "    <tr>\n",
              "      <th>25%</th>\n",
              "      <td>27.000000</td>\n",
              "      <td>26.296250</td>\n",
              "      <td>0.000000</td>\n",
              "      <td>4740.287150</td>\n",
              "    </tr>\n",
              "    <tr>\n",
              "      <th>50%</th>\n",
              "      <td>39.000000</td>\n",
              "      <td>30.400000</td>\n",
              "      <td>1.000000</td>\n",
              "      <td>9382.033000</td>\n",
              "    </tr>\n",
              "    <tr>\n",
              "      <th>75%</th>\n",
              "      <td>51.000000</td>\n",
              "      <td>34.693750</td>\n",
              "      <td>2.000000</td>\n",
              "      <td>16639.912515</td>\n",
              "    </tr>\n",
              "    <tr>\n",
              "      <th>max</th>\n",
              "      <td>64.000000</td>\n",
              "      <td>53.130000</td>\n",
              "      <td>5.000000</td>\n",
              "      <td>63770.428010</td>\n",
              "    </tr>\n",
              "  </tbody>\n",
              "</table>\n",
              "</div>"
            ]
          },
          "metadata": {}
        }
      ]
    },
    {
      "cell_type": "code",
      "source": [
        "df.head()"
      ],
      "metadata": {
        "id": "hWfzpH5IRwQZ"
      },
      "execution_count": 4,
      "outputs": [
        {
          "output_type": "execute_result",
          "data": {
            "text/plain": [
              "   age     sex     bmi  children smoker     region      charges\n",
              "0   19  female  27.900         0    yes  southwest  16884.92400\n",
              "1   18    male  33.770         1     no  southeast   1725.55230\n",
              "2   28    male  33.000         3     no  southeast   4449.46200\n",
              "3   33    male  22.705         0     no  northwest  21984.47061\n",
              "4   32    male  28.880         0     no  northwest   3866.85520"
            ],
            "text/html": [
              "<div>\n",
              "<style scoped>\n",
              "    .dataframe tbody tr th:only-of-type {\n",
              "        vertical-align: middle;\n",
              "    }\n",
              "\n",
              "    .dataframe tbody tr th {\n",
              "        vertical-align: top;\n",
              "    }\n",
              "\n",
              "    .dataframe thead th {\n",
              "        text-align: right;\n",
              "    }\n",
              "</style>\n",
              "<table border=\"1\" class=\"dataframe\">\n",
              "  <thead>\n",
              "    <tr style=\"text-align: right;\">\n",
              "      <th></th>\n",
              "      <th>age</th>\n",
              "      <th>sex</th>\n",
              "      <th>bmi</th>\n",
              "      <th>children</th>\n",
              "      <th>smoker</th>\n",
              "      <th>region</th>\n",
              "      <th>charges</th>\n",
              "    </tr>\n",
              "  </thead>\n",
              "  <tbody>\n",
              "    <tr>\n",
              "      <th>0</th>\n",
              "      <td>19</td>\n",
              "      <td>female</td>\n",
              "      <td>27.900</td>\n",
              "      <td>0</td>\n",
              "      <td>yes</td>\n",
              "      <td>southwest</td>\n",
              "      <td>16884.92400</td>\n",
              "    </tr>\n",
              "    <tr>\n",
              "      <th>1</th>\n",
              "      <td>18</td>\n",
              "      <td>male</td>\n",
              "      <td>33.770</td>\n",
              "      <td>1</td>\n",
              "      <td>no</td>\n",
              "      <td>southeast</td>\n",
              "      <td>1725.55230</td>\n",
              "    </tr>\n",
              "    <tr>\n",
              "      <th>2</th>\n",
              "      <td>28</td>\n",
              "      <td>male</td>\n",
              "      <td>33.000</td>\n",
              "      <td>3</td>\n",
              "      <td>no</td>\n",
              "      <td>southeast</td>\n",
              "      <td>4449.46200</td>\n",
              "    </tr>\n",
              "    <tr>\n",
              "      <th>3</th>\n",
              "      <td>33</td>\n",
              "      <td>male</td>\n",
              "      <td>22.705</td>\n",
              "      <td>0</td>\n",
              "      <td>no</td>\n",
              "      <td>northwest</td>\n",
              "      <td>21984.47061</td>\n",
              "    </tr>\n",
              "    <tr>\n",
              "      <th>4</th>\n",
              "      <td>32</td>\n",
              "      <td>male</td>\n",
              "      <td>28.880</td>\n",
              "      <td>0</td>\n",
              "      <td>no</td>\n",
              "      <td>northwest</td>\n",
              "      <td>3866.85520</td>\n",
              "    </tr>\n",
              "  </tbody>\n",
              "</table>\n",
              "</div>"
            ]
          },
          "metadata": {}
        }
      ]
    },
    {
      "cell_type": "markdown",
      "source": [
        "# =============================================================================\n",
        "# 3. EXPLORATORY DATA ANALYSIS (EDA)\n",
        "# ============================================================================="
      ]
    },
    {
      "cell_type": "code",
      "source": [
        "def perform_eda(df):\n",
        "    \"\"\"Comprehensive EDA function for the dataset.\"\"\"\n",
        "\n",
        "    # Check for missing values\n",
        "    print(\"\\n🔍 Missing Values Check:\")\n",
        "    missing_values = df.isnull().sum()\n",
        "    print(missing_values[missing_values > 0] if missing_values.sum() > 0 else \"No missing values found! ✅\")\n",
        "\n",
        "    # Check for duplicates\n",
        "    duplicates = df.duplicated().sum()\n",
        "    print(f\"\\n🔄 Duplicate rows: {duplicates}\")\n",
        "    if duplicates > 0:\n",
        "      df.drop_duplicates(inplace=True)\n",
        "      print(f\"✅ Duplicate rows removed. New shape: {df.shape}\")\n",
        "\n",
        "    # Visualize distributions\n",
        "    plt.figure(figsize=(15, 10))\n",
        "\n",
        "    plt.subplot(2, 3, 1)\n",
        "    sns.histplot(df['charges'], kde=True, alpha=0.7, edgecolor='black')\n",
        "    plt.title('Distribution of Insurance Charges')\n",
        "    plt.xlabel('Charges ($)')\n",
        "    plt.ylabel('Frequency')\n",
        "\n",
        "    plt.subplot(2, 3, 2)\n",
        "    sns.histplot(df['age'], kde=True, bins=30, alpha=0.7, edgecolor='black')\n",
        "    plt.title('Age Distribution')\n",
        "    plt.xlabel('Age')\n",
        "    plt.ylabel('Frequency')\n",
        "\n",
        "    plt.subplot(2, 3, 3)\n",
        "    sns.histplot(df['bmi'], kde=True, bins=30, alpha=0.7, edgecolor='black')\n",
        "    plt.title('BMI Distribution')\n",
        "    plt.xlabel('BMI')\n",
        "    plt.ylabel('Frequency')\n",
        "\n",
        "    # Visualize relationships with 'charges'\n",
        "    plt.subplot(2, 3, 4)\n",
        "    sns.boxplot(data=df, x='smoker', y='charges')\n",
        "    plt.title('Charges by Smoker Status')\n",
        "    plt.xticks(rotation=45)\n",
        "\n",
        "    plt.subplot(2, 3, 5)\n",
        "    sns.boxplot(data=df, x='region', y='charges')\n",
        "    plt.title('Charges by Region')\n",
        "    plt.xticks(rotation=45)\n",
        "\n",
        "    plt.subplot(2, 3, 6)\n",
        "    sns.boxplot(data=df, x='children', y='charges')\n",
        "    plt.title('Charges by Number of Children')\n",
        "\n",
        "    plt.tight_layout()\n",
        "    plt.show()\n",
        "\n",
        "    # Correlation analysis\n",
        "    print(\"\\n📊 Correlation Analysis:\")\n",
        "    df_corr = df.copy()\n",
        "    le = LabelEncoder()\n",
        "    for col in ['sex', 'smoker', 'region']:\n",
        "        df_corr[col] = le.fit_transform(df_corr[col])\n",
        "\n",
        "    plt.figure(figsize=(10, 8))\n",
        "    correlation_matrix = df_corr.corr()\n",
        "    sns.heatmap(correlation_matrix, annot=True, cmap='coolwarm', center=0)\n",
        "    plt.title('Correlation Matrix')\n",
        "    plt.show()\n",
        "\n",
        "    return df\n",
        "\n",
        "# Run EDA on the loaded dataframe\n",
        "df_clean = perform_eda(df)"
      ],
      "metadata": {
        "id": "TS9n1jEfR64U"
      },
      "execution_count": 5,
      "outputs": [
        {
          "output_type": "stream",
          "name": "stdout",
          "text": [
            "\n",
            "🔍 Missing Values Check:\n",
            "No missing values found! ✅\n",
            "\n",
            "🔄 Duplicate rows: 1\n",
            "✅ Duplicate rows removed. New shape: (1337, 7)\n"
          ]
        }
      ]
    }
  ]
}